{
 "cells": [
  {
   "cell_type": "code",
   "execution_count": 5,
   "metadata": {},
   "outputs": [
    {
     "name": "stdout",
     "output_type": "stream",
     "text": [
      "AK: 1202\n",
      "ance: 297\n",
      "BCC: 3323\n",
      "BKL: 2624\n",
      "DF: 239\n",
      "eczema: 322\n",
      "MEL: 4918\n",
      "NV: 12875\n",
      "psoriasis: 420\n",
      "SCC: 628\n",
      "VASC: 253\n"
     ]
    }
   ],
   "source": [
    "import os\n",
    "# print number of images in each directory\n",
    "for directory in os.listdir('Data'):\n",
    "    if os.path.isdir(f'Data/{directory}'):\n",
    "        print(f'{directory}: {len(os.listdir(f\"Data/{directory}\"))}')"
   ]
  },
  {
   "cell_type": "code",
   "execution_count": 6,
   "metadata": {},
   "outputs": [],
   "source": [
    "#python version 3.11\n",
    "# %pip install tensorflow\n",
    "# %pip install keras\n",
    "# %pip install matplotlib\n",
    "# %pip install numpy\n",
    "# %pip install pandas\n",
    "# %pip install scikit-learn\n",
    "# %pip install pillow\n"
   ]
  },
  {
   "cell_type": "code",
   "execution_count": 7,
   "metadata": {},
   "outputs": [
    {
     "name": "stdout",
     "output_type": "stream",
     "text": [
      "AK: 1000\n",
      "ance: 297\n",
      "BCC: 1000\n",
      "BKL: 1000\n",
      "DF: 239\n",
      "eczema: 322\n",
      "MEL: 1000\n",
      "NV: 1000\n",
      "psoriasis: 420\n",
      "SCC: 628\n",
      "VASC: 253\n"
     ]
    }
   ],
   "source": [
    "import random\n",
    "import shutil\n",
    "\n",
    "def sample_images(directory):\n",
    "    shutil.rmtree(f'sample/{directory}', ignore_errors=True)\n",
    "    images = os.listdir(directory)\n",
    "    n = 1000\n",
    "    if len(images) < 1000:\n",
    "        n=len(images)\n",
    "    sample = random.sample(images, n)\n",
    "    os.makedirs(f'sample/{directory}', exist_ok=True)\n",
    "    for image in sample:\n",
    "        shutil.copyfile(f'{directory}/{image}', f'sample/{directory}/{image}')\n",
    "\n",
    "for directory in os.listdir('Data'):\n",
    "    if os.path.isdir(f'Data/{directory}') and directory != 'sample':\n",
    "        sample_images(f'Data/{directory}')\n",
    "        print(f'{directory}: {len(os.listdir(f\"sample/Data/{directory}\"))}')\n",
    "\n"
   ]
  },
  {
   "cell_type": "code",
   "execution_count": 8,
   "metadata": {},
   "outputs": [
    {
     "name": "stdout",
     "output_type": "stream",
     "text": [
      "Augmenting images in folder: AK\n",
      "Augmenting images in folder: ance\n",
      "Augmenting images in folder: BCC\n",
      "Augmenting images in folder: BKL\n",
      "Augmenting images in folder: DF\n",
      "Augmenting images in folder: eczema\n",
      "Augmenting images in folder: MEL\n",
      "Augmenting images in folder: NV\n",
      "Augmenting images in folder: psoriasis\n",
      "Augmenting images in folder: SCC\n",
      "Augmenting images in folder: VASC\n",
      "Data augmentation completed.\n"
     ]
    }
   ],
   "source": [
    "import os\n",
    "import numpy as np\n",
    "import tensorflow as tf\n",
    "from tensorflow.keras.preprocessing.image import ImageDataGenerator\n",
    "from tensorflow.keras.preprocessing import image\n",
    "from PIL import Image\n",
    "from tensorflow.keras import backend as K\n",
    "\n",
    "# Path to the directory containing image folders\n",
    "data_dir = \"sample/Data\"\n",
    "\n",
    "# Desired number of images after augmentation\n",
    "target_count = 1000\n",
    "\n",
    "# Parameters for data augmentation\n",
    "data_generator = ImageDataGenerator(\n",
    "    rescale=1./255,\n",
    "    rotation_range=90,\n",
    "    horizontal_flip=True,\n",
    "    fill_mode='nearest',\n",
    ")\n",
    "batch_size = 5\n",
    "for folder in os.listdir(data_dir):\n",
    "    if folder == 'sample':\n",
    "        continue\n",
    "    folder_path = os.path.join(data_dir, folder)\n",
    "    if os.path.isdir(folder_path):\n",
    "        print(f\"Augmenting images in folder: {folder}\")\n",
    "        \n",
    "        for filename in os.listdir(folder_path):\n",
    "            batch_size = target_count//len(os.listdir(folder_path))\n",
    "            if(len(os.listdir(folder_path)) >= target_count):\n",
    "                break\n",
    "            if filename.lower().endswith((\".jpg\", \".jpeg\", \".png\")):\n",
    "                # Load the image\n",
    "                img_path = os.path.join(folder_path, filename)\n",
    "                img = image.load_img(img_path)\n",
    "                x = image.img_to_array(img)\n",
    "                x = np.expand_dims(x, axis=0)\n",
    "\n",
    "                # Generate augmented images\n",
    "                i = 0\n",
    "                for batch in data_generator.flow(x, batch_size=batch_size, save_to_dir=folder_path, save_prefix=f'aug_{filename[:-4]}', save_format='jpg'):\n",
    "                    i += 1\n",
    "                    if i > 5:  # Generate 5 augmented images per original image\n",
    "                        break\n",
    "\n",
    "print(\"Data augmentation completed.\")\n"
   ]
  },
  {
   "cell_type": "code",
   "execution_count": 9,
   "metadata": {},
   "outputs": [
    {
     "name": "stdout",
     "output_type": "stream",
     "text": [
      "AK: 1000\n",
      "ance: 1005\n",
      "BCC: 1000\n",
      "BKL: 1000\n",
      "DF: 1001\n",
      "eczema: 1000\n",
      "MEL: 1000\n",
      "NV: 1000\n",
      "psoriasis: 1001\n",
      "SCC: 1000\n",
      "VASC: 1003\n"
     ]
    }
   ],
   "source": [
    "import os\n",
    "# print number of images in each directory\n",
    "for directory in os.listdir('sample/Data'):\n",
    "    if os.path.isdir(f'sample/Data/{directory}'):\n",
    "        print(f'{directory}: {len(os.listdir(f\"sample/Data/{directory}\"))}')"
   ]
  },
  {
   "cell_type": "code",
   "execution_count": 10,
   "metadata": {},
   "outputs": [],
   "source": [
    "#train test split \n",
    "import os\n",
    "import shutil\n",
    "import random\n",
    "# Create a new directory\n",
    "os.makedirs('sample/train', exist_ok=True)\n",
    "os.makedirs('sample/test', exist_ok=True)\n",
    "os.makedirs('sample/val', exist_ok=True)\n",
    "# Iterate through each folder\n",
    "for folder in os.listdir('sample/Data'):\n",
    "    folder_path = os.path.join('sample/Data', folder)\n",
    "    if os.path.isdir(folder_path):\n",
    "        # Get a random sample of images\n",
    "        images = os.listdir(folder_path)\n",
    "        random.shuffle(images)\n",
    "        split_index = int(0.8 * len(images))\n",
    "        train_images = images[:split_index]\n",
    "        val_images = images[split_index:]\n",
    "        # Move images to train/test folders\n",
    "        for image in train_images:\n",
    "            source = os.path.join(folder_path, image)\n",
    "            target = os.path.join('sample/train', folder, image)\n",
    "            os.makedirs(os.path.dirname(target), exist_ok=True)\n",
    "            shutil.copyfile(source, target)\n",
    "        for image in val_images:\n",
    "            source = os.path.join(folder_path, image)\n",
    "            target = os.path.join('sample/val', folder, image)\n",
    "            os.makedirs(os.path.dirname(target), exist_ok=True)\n",
    "            shutil.copyfile(source, target)\n",
    "\n",
    "\n",
    "\n"
   ]
  }
 ],
 "metadata": {
  "kernelspec": {
   "display_name": "Python 3",
   "language": "python",
   "name": "python3"
  },
  "language_info": {
   "codemirror_mode": {
    "name": "ipython",
    "version": 3
   },
   "file_extension": ".py",
   "mimetype": "text/x-python",
   "name": "python",
   "nbconvert_exporter": "python",
   "pygments_lexer": "ipython3",
   "version": "0.0.0"
  }
 },
 "nbformat": 4,
 "nbformat_minor": 2
}
